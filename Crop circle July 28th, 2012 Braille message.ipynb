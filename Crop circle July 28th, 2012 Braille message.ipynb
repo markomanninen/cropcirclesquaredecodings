{
 "metadata": {
  "name": "",
  "signature": "sha256:aeb13f8e27baaedcdafd077253b68ef7b6b24c423aad725d62d8c20ea74e07cc"
 },
 "nbformat": 3,
 "nbformat_minor": 0,
 "worksheets": [
  {
   "cells": [
    {
     "cell_type": "heading",
     "level": 1,
     "metadata": {},
     "source": [
      "Deciphering crop circle July 28th, 2012 message with Braille's writing system"
     ]
    },
    {
     "cell_type": "code",
     "collapsed": false,
     "input": [
      "# import necessary libraries to the notebook\n",
      "from sympy import Matrix\n",
      "import matplotlib.pyplot as plt\n",
      "from numpy import array, fliplr, flipud, sort, zeros, matrix\n",
      "from IPython.core.display import HTML\n",
      "from pybrl import brailles, ordered_unicodes, matrixcodes, decodings\n",
      "\n",
      "%matplotlib inline"
     ],
     "language": "python",
     "metadata": {},
     "outputs": [],
     "prompt_number": 18
    },
    {
     "cell_type": "markdown",
     "metadata": {},
     "source": [
      "<h2>Original picture</h2>\n",
      "<p>\n",
      "    <a href=\"https://www.google.fi/search?q=Crop+Circle+July+28th,+2012&biw=1439&bih=771&source=lnms&sa=X&ei=KMuKVcaREcqrUfvygPAD&ved=0CAYQ_AUoAA&dpr=2\">Google </a> for crop circle appearence at 28th of July, 2012:<br /><br />\n",
      "    <img src=\"cropcircle.jpg\" style=\"width: 50%; height: 50%; margin: 0\" />\n",
      "</p>"
     ]
    },
    {
     "cell_type": "heading",
     "level": 2,
     "metadata": {},
     "source": [
      "Picture encoded to binary matrices"
     ]
    },
    {
     "cell_type": "code",
     "collapsed": false,
     "input": [
      "# 12*12 bits message\n",
      "message = [\n",
      "[1,0,1,1,1,0,1,1,1,0,1,0],\n",
      "[0,0,0,1,0,1,1,1,1,0,1,0],\n",
      "[0,1,1,0,0,0,1,0,1,0,0,0],\n",
      "[1,0,0,1,0,0,1,1,1,0,1,1],\n",
      "[0,0,0,1,0,0,0,1,1,1,1,0],\n",
      "[0,0,0,0,0,1,1,0,0,0,0,1],\n",
      "[1,0,1,0,0,0,1,1,0,0,1,1],\n",
      "[0,0,1,1,0,1,0,1,1,0,1,0],\n",
      "[0,1,0,0,0,0,1,0,1,0,0,1],\n",
      "[1,1,0,1,0,1,0,1,0,0,1,0],\n",
      "[0,0,1,1,1,1,0,1,0,0,1,1],\n",
      "[0,0,0,0,1,0,0,0,1,0,1,0]\n",
      "]\n",
      "\n",
      "# inverse\n",
      "message_inverse = [\n",
      "[0,1,0,0,0,1,0,0,0,1,0,1],\n",
      "[1,1,1,0,1,0,0,0,0,1,0,1],\n",
      "[1,0,0,1,1,1,0,1,0,1,1,1],\n",
      "[0,1,1,0,1,1,0,0,0,1,0,0],\n",
      "[1,1,1,0,1,1,1,0,0,0,0,1],\n",
      "[1,1,1,1,1,0,0,1,1,1,1,0],\n",
      "[0,1,0,1,1,1,0,0,1,1,0,0],\n",
      "[1,1,0,0,1,0,1,0,0,1,0,1],\n",
      "[1,0,1,1,1,1,0,1,0,1,1,0],\n",
      "[0,0,1,0,1,0,1,0,1,1,0,1],\n",
      "[1,1,0,0,0,0,1,0,1,1,0,0],\n",
      "[1,1,1,1,0,1,1,1,0,1,0,1]\n",
      "]\n",
      "\n",
      "# black and white plot\n",
      "def show_matrix(Z):\n",
      "    N = len(Z)\n",
      "    G = zeros((N,N,3))\n",
      "    G[Z<0.5] = [0,0,0]\n",
      "    G[Z>0.5] = [1,1,1]\n",
      "    plt.imshow(G, interpolation=\"nearest\")\n",
      "    plt.show()"
     ],
     "language": "python",
     "metadata": {},
     "outputs": [],
     "prompt_number": 19
    },
    {
     "cell_type": "heading",
     "level": 2,
     "metadata": {},
     "source": [
      "Black and white matrix + inversed version"
     ]
    },
    {
     "cell_type": "code",
     "collapsed": false,
     "input": [
      "#show_matrix(matrix(message))\n",
      "#show_matrix(matrix(message_inverse))\n",
      "HTML(\n",
      "\"\"\"\n",
      "<p>\n",
      "    <img src=\"cropmatrix.png\" style=\"margin: 0; float: left\" />\n",
      "    <img src=\"cropmatrixinverse.png\" style=\"margin: 0\" />\n",
      "</p>\n",
      "\"\"\")"
     ],
     "language": "python",
     "metadata": {},
     "outputs": [
      {
       "html": [
        "\n",
        "<p>\n",
        "    <img src=\"cropmatrix.png\" style=\"margin: 0; float: left\" />\n",
        "    <img src=\"cropmatrixinverse.png\" style=\"margin: 0\" />\n",
        "</p>\n"
       ],
       "metadata": {},
       "output_type": "pyout",
       "prompt_number": 20,
       "text": [
        "<IPython.core.display.HTML at 0x108df71d0>"
       ]
      }
     ],
     "prompt_number": 20
    },
    {
     "cell_type": "markdown",
     "metadata": {},
     "source": [
      "<h2>Braille symbols (1-64)</h2>\n",
      "<ul>\n",
      "<li>https://en.wikipedia.org/wiki/Braille\n",
      "<li>https://en.wikipedia.org/wiki/Braille_Patterns\n",
      "</ul>"
     ]
    },
    {
     "cell_type": "code",
     "collapsed": false,
     "input": [
      "HTML('<p style=\"font-size: 170%; margin-top: 20px\">'+''.join(ordered_unicodes)+'</p>')"
     ],
     "language": "python",
     "metadata": {},
     "outputs": [
      {
       "html": [
        "<p style=\"font-size: 170%; margin-top: 20px\">\u2800\u2801\u2802\u2803\u2804\u2805\u2806\u2807\u2808\u2809\u280a\u280b\u280c\u280d\u280e\u280f\u2810\u2811\u2812\u2813\u2814\u2815\u2816\u2817\u2818\u2819\u281a\u281b\u281c\u281d\u281e\u281f\u2820\u2821\u2822\u2823\u2824\u2825\u2826\u2827\u2828\u2829\u282a\u282b\u282c\u282d\u282e\u282f\u2830\u2831\u2832\u2833\u2834\u2835\u2836\u2837\u2838\u2839\u283a\u283b\u283c\u283d\u283e\u283f</p>"
       ],
       "metadata": {},
       "output_type": "pyout",
       "prompt_number": 21,
       "text": [
        "<IPython.core.display.HTML at 0x108f56bd0>"
       ]
      }
     ],
     "prompt_number": 21
    },
    {
     "cell_type": "markdown",
     "metadata": {},
     "source": [
      "<h2>Braille symbol meanings</h2>\n",
      "<ul>\n",
      "<li>https://en.wikipedia.org/wiki/Braille_ASCII\n",
      "<li>http://www.brailleauthority.org/literary/ebae2002.pdf\n",
      "<li>http://www.brailleauthority.org/ueb/symbols_list.pdf\n",
      "<li>http://www.htctu.fhda.edu/trainings/manuals/alt/grade_two_day_2.pdf\n",
      "</ul>"
     ]
    },
    {
     "cell_type": "markdown",
     "metadata": {},
     "source": [
      "Using numpy and pybrl libraries to flip and decode message matrix:"
     ]
    },
    {
     "cell_type": "code",
     "collapsed": false,
     "input": [
      "def decode(arr, row_skip = 3, column_skip = 2):\n",
      "    y = []\n",
      "    for i in xrange(0, len(arr), row_skip):\n",
      "        for j in xrange(0, len(arr[0]), column_skip):\n",
      "            m = Matrix(arr)[i:i+row_skip, j:j+column_skip]\n",
      "            if row_skip < column_skip:\n",
      "                l = [m[:][3], m[:][0], m[:][4], m[:][1], m[:][5], m[:][2]]\n",
      "            else:\n",
      "                l = m[:]\n",
      "            x = str(l).replace(\"\\n\", '').replace(\" \", '')\n",
      "            for mc, d, b in zip(matrixcodes, decodings, brailles):\n",
      "                if [item for sublist in mc for item in sublist] == l:\n",
      "                    x = b+' '+d\n",
      "                    break\n",
      "            y.append(x)\n",
      "    return y"
     ],
     "language": "python",
     "metadata": {},
     "outputs": [],
     "prompt_number": 25
    },
    {
     "cell_type": "code",
     "collapsed": false,
     "input": [
      "print ' | '.join(decode(message)), \"\\r\\n\"\n",
      "print ' | '.join(decode(fliplr(message))), \"\\r\\n\"\n",
      "print ' | '.join(decode(flipud(message))), \"\\r\\n\"\n",
      "print ' | '.join(decode(fliplr(flipud(message)))), \"\\r\\n\""
     ],
     "language": "python",
     "metadata": {},
     "outputs": [
      {
       "output_type": "stream",
       "stream": "stdout",
       "text": [
        "\u2821 ch/CHILD/5-character | \u281d n/NOT/5-name/4-6-sion/5-6-tion/6-ation | \u2811 e/EVERY/5-ever/4-6-ance/5-6-ence/5 | \u281f q/QUITE/5-question | \u2807 l/LIKE/5-lord/5-6-ful/RELEASE | \u2803 b/BUT/2 | \u2801 a/1 | \u2818 4-5-  | \u2820 6- | \u281d n/NOT/5-name/4-6-sion/5-6-tion/6-ation | \u2813 h/HAVE/5-here/4-5-6-had/8 | \u282b ed | \u2821 ch/CHILD/5-character | \u2813 h/HAVE/5-here/4-5-6-had/8 | \u2810 5- | \u281d n/NOT/5-name/4-6-sion/5-6-tion/6-ation | \u2806 be/bb/; | \u282b ed | \u2809 c/CAN/4-5-6-cannot/3 | \u281a j/JUST/0 | \u281e t/THAT/5-time/4-6-ount/5-6-ment | \u2818 4-5-  | \u2804 3- | \u2817 r/RATHER/5-right \r\n",
        "\n",
        "\u2818 4-5-  | \u2838 4-5-6- | \u283b er | \u280a i/9 | \u282b ed | \u280c st/STILL | \u281d n/NOT/5-name/4-6-sion/5-6-tion/6-ation | \u281a j/JUST/0 | \u282b ed | \u2804 3- | \u2803 b/BUT/2 | \u2808 \u00b4/@ | \u281d n/NOT/5-name/4-6-sion/5-6-tion/6-ation | \u2830 5-6- | \u282b ed | \u2802 ea/, | \u281a j/JUST/0 | \u280c st/STILL | \u283a w/WILL/5-work/4-5-word/4-5-6-world | \u2820 6- | \u2803 b/BUT/2 | \u2833 ou/OUT/5-ought | \u2813 h/HAVE/5-here/4-5-6-had/8 | \u2809 c/CAN/4-5-6-cannot/3 \r\n",
        "\n",
        "\u2824 com/- | \u2832 dis/dd/. | \u2833 ou/OUT/5-ought | \u2830 5-6- | \u2801 a/1 | \u2817 r/RATHER/5-right | \u280c st/STILL | \u2816 to/ff/! | \u2810 5- | \u2835 z/AS | \u2803 b/BUT/2 | \u282e THE/5-there/4-5-these/4-5-6-their | \u2804 3- | \u2830 5-6- | \u2808 \u00b4/@ | \u2835 z/AS | \u2816 to/ff/! | \u282e THE/5-there/4-5-these/4-5-6-their | \u280c st/STILL | \u2835 z/AS | \u2814 in | \u2837 OF | \u2807 l/LIKE/5-lord/5-6-ful/RELEASE | \u2806 be/bb/;"
       ]
      },
      {
       "output_type": "stream",
       "stream": "stdout",
       "text": [
        " \r\n",
        "\n",
        "\u283a w/WILL/5-work/4-5-word/4-5-6-world | \u2808 \u00b4/@ | \u2806 be/bb/; | \u281e t/THAT/5-time/4-6-ount/5-6-ment | \u2816 to/ff/! | \u2824 com/- | \u2835 z/AS | \u2818 4-5-  | \u282e THE/5-there/4-5-these/4-5-6-their | \u2802 ea/, | \u2832 dis/dd/. | \u2821 ch/CHILD/5-character | \u2835 z/AS | \u2832 dis/dd/. | \u282e THE/5-there/4-5-these/4-5-6-their | \u2801 a/1 | \u2806 be/bb/; | \u2820 6- | \u2830 5-6- | \u2838 4-5-6- | \u283e WITH | \u2822 en/ENOUGH | \u282e THE/5-there/4-5-these/4-5-6-their | \u2821 ch/CHILD/5-character \r\n",
        "\n"
       ]
      }
     ],
     "prompt_number": 26
    },
    {
     "cell_type": "code",
     "collapsed": false,
     "input": [
      "print ' | '.join(decode(message, row_skip = 2, column_skip = 3)), \"\\r\\n\"\n",
      "print ' | '.join(decode(fliplr(message), row_skip = 2, column_skip = 3)), \"\\r\\n\"\n",
      "print ' | '.join(decode(flipud(message), row_skip = 2, column_skip = 3)), \"\\r\\n\"\n",
      "print ' | '.join(decode(fliplr(flipud(message)), row_skip = 2, column_skip = 3)), \"\\r\\n\""
     ],
     "language": "python",
     "metadata": {},
     "outputs": [
      {
       "output_type": "stream",
       "stream": "stdout",
       "text": [
        "\u2828 4-6- | \u281d n/NOT/5-name/4-6-sion/5-6-tion/6-ation | \u283f FOR/full | \u2812 con/cc/: | \u2831 wh/WHICH/5-where/4-5-whose | \u2801 a/1 | \u282f AND | \u2806 be/bb/; | \u2800 SPACE/empty | \u280c st/STILL | \u2831 wh/WHICH/5-where/4-5-whose | \u281c ar | \u282c ing | \u2805 k/KNOWLEDGE/5-know | \u281e t/THAT/5-time/4-6-ount/5-6-ment | \u2832 dis/dd/. | \u2813 h/HAVE/5-here/4-5-6-had/8 | \u2805 k/KNOWLEDGE/5-know | \u282a ow | \u2822 en/ENOUGH | \u2820 6- | \u283a w/WILL/5-work/4-5-word/4-5-6-world | \u2814 in | \u2832 dis/dd/. \r\n",
        "\n",
        "\u2812 con/cc/: | \u283f FOR/full | \u2835 z/AS | \u2828 4-6- | \u2803 b/BUT/2 | \u282f AND | \u2804 3- | \u281c ar | \u2831 wh/WHICH/5-where/4-5-whose | \u281c ar | \u2821 ch/CHILD/5-character | \u2800 SPACE/empty | \u281a j/JUST/0 | \u2833 ou/OUT/5-ought | \u2805 k/KNOWLEDGE/5-know | \u2829 sh/SHALL | \u280a i/9 | \u282a ow | \u2805 k/KNOWLEDGE/5-know | \u2816 to/ff/! | \u281a j/JUST/0 | \u2811 e/EVERY/5-ever/4-6-ance/5-6-ence/5 | \u283a w/WILL/5-work/4-5-word/4-5-6-world | \u2808 \u00b4/@ \r\n",
        "\n",
        "\u2804 3- | \u2817 r/RATHER/5-right | \u2822 en/ENOUGH | \u2816 to/ff/! | \u281a j/JUST/0 | \u2828 4-6- | \u2815 o/5-one | \u2814 in | \u2825 u/US/5-under/4-5-upon | \u2828 4-6- | \u2833 ou/OUT/5-ought | \u2816 to/ff/! | \u2800 SPACE/empty | \u2821 ch/CHILD/5-character | \u280e s/SO/5-some/4-5-6-spirit/4-6-less/5-6-ness | \u2823 gh/RELEASE CAPS/< | \u280e s/SO/5-some/4-5-6-spirit/4-6-less/5-6-ness | \u2808 \u00b4/@ | \u283d y/YOU/5-young/5-6-ity/6-ally/ | \u2830 5-6- | \u2805 k/KNOWLEDGE/5-know | \u282b ed | \u283f FOR/full | \u2812 con/cc/:"
       ]
      },
      {
       "output_type": "stream",
       "stream": "stdout",
       "text": [
        " \r\n",
        "\n",
        "\u2813 h/HAVE/5-here/4-5-6-had/8 | \u280a i/9 | \u2817 r/RATHER/5-right | \u2801 a/1 | \u2811 e/EVERY/5-ever/4-6-ance/5-6-ence/5 | \u2815 o/5-one | \u2828 4-6- | \u2832 dis/dd/. | \u2813 h/HAVE/5-here/4-5-6-had/8 | \u281e t/THAT/5-time/4-6-ount/5-6-ment | \u2828 4-6- | \u280d m/MORE/5-mother/4-5-6-many | \u280e s/SO/5-some/4-5-6-spirit/4-6-less/5-6-ness | \u2823 gh/RELEASE CAPS/< | \u280c st/STILL | \u2800 SPACE/empty | \u2818 4-5-  | \u283d y/YOU/5-young/5-6-ity/6-ally/ | \u2820 6- | \u2823 gh/RELEASE CAPS/< | \u2812 con/cc/: | \u283f FOR/full | \u282e THE/5-there/4-5-these/4-5-6-their | \u2805 k/KNOWLEDGE/5-know \r\n",
        "\n"
       ]
      }
     ],
     "prompt_number": 27
    },
    {
     "cell_type": "code",
     "collapsed": false,
     "input": [
      "print ' | '.join(decode(message_inverse)), \"\\r\\n\"\n",
      "print ' | '.join(decode(fliplr(message_inverse))), \"\\r\\n\"\n",
      "print ' | '.join(decode(flipud(message_inverse))), \"\\r\\n\"\n",
      "print ' | '.join(decode(fliplr(flipud(message_inverse)))), \"\\r\\n\""
     ],
     "language": "python",
     "metadata": {},
     "outputs": [
      {
       "output_type": "stream",
       "stream": "stdout",
       "text": [
        "\u281e t/THAT/5-time/4-6-ount/5-6-ment | \u2822 en/ENOUGH | \u282e THE/5-there/4-5-these/4-5-6-their | \u2820 6- | \u2838 4-5-6- | \u283c ble/# | \u283e WITH | \u2827 v/VERY | \u281f q/QUITE/5-question | \u2822 en/ENOUGH | \u282c ing | \u2814 in | \u281e t/THAT/5-time/4-6-ount/5-6-ment | \u282c ing | \u282f AND | \u2822 en/ENOUGH | \u2839 th/THIS/5-through/4-5-those | \u2814 in | \u2836 were/gg/() | \u2825 u/US/5-under/4-5-upon | \u2821 ch/CHILD/5-character | \u2827 v/VERY | \u283b er | \u2828 4-6- \r\n",
        "\n",
        "\u2827 v/VERY | \u2807 l/LIKE/5-lord/5-6-ful/RELEASE | \u2804 3- | \u2835 z/AS | \u2814 in | \u2833 ou/OUT/5-ought | \u2822 en/ENOUGH | \u2825 u/US/5-under/4-5-upon | \u2814 in | \u283b er | \u283c ble/# | \u2837 OF | \u2822 en/ENOUGH | \u280f p/PEOPLE/5-part | \u2814 in | \u283d y/YOU/5-young/5-6-ity/6-ally/ | \u2825 u/US/5-under/4-5-upon | \u2833 ou/OUT/5-ought | \u2805 k/KNOWLEDGE/5-know | \u281f q/QUITE/5-question | \u283c ble/# | \u280c st/STILL | \u282c ing | \u2836 were/gg/() \r\n",
        "\n",
        "\u281b g/GO/5-6-ong/7 | \u280d m/MORE/5-mother/4-5-6-many | \u280c st/STILL | \u280f p/PEOPLE/5-part | \u283e WITH | \u2828 4-6- | \u2833 ou/OUT/5-ought | \u2829 sh/SHALL | \u282f AND | \u280a i/9 | \u283c ble/# | \u2811 e/EVERY/5-ever/4-6-ance/5-6-ence/5 | \u283b er | \u280f p/PEOPLE/5-part | \u2837 OF | \u280a i/9 | \u2829 sh/SHALL | \u2811 e/EVERY/5-ever/4-6-ance/5-6-ence/5 | \u2833 ou/OUT/5-ought | \u280a i/9 | \u282b ed | \u2808 \u00b4/@ | \u2838 4-5-6- | \u2839 th/THIS/5-through/4-5-those"
       ]
      },
      {
       "output_type": "stream",
       "stream": "stdout",
       "text": [
        " \r\n",
        "\n",
        "\u2805 k/KNOWLEDGE/5-know | \u2837 OF | \u2839 th/THIS/5-through/4-5-those | \u2821 ch/CHILD/5-character | \u2829 sh/SHALL | \u281b g/GO/5-6-ong/7 | \u280a i/9 | \u2827 v/VERY | \u2811 e/EVERY/5-ever/4-6-ance/5-6-ence/5 | \u283d y/YOU/5-young/5-6-ity/6-ally/ | \u280d m/MORE/5-mother/4-5-6-many | \u281e t/THAT/5-time/4-6-ount/5-6-ment | \u280a i/9 | \u280d m/MORE/5-mother/4-5-6-many | \u2811 e/EVERY/5-ever/4-6-ance/5-6-ence/5 | \u283e WITH | \u2839 th/THIS/5-through/4-5-those | \u281f q/QUITE/5-question | \u280f p/PEOPLE/5-part | \u2807 l/LIKE/5-lord/5-6-ful/RELEASE | \u2801 a/1 | \u281d n/NOT/5-name/4-6-sion/5-6-tion/6-ation | \u2811 e/EVERY/5-ever/4-6-ance/5-6-ence/5 | \u281e t/THAT/5-time/4-6-ount/5-6-ment \r\n",
        "\n"
       ]
      }
     ],
     "prompt_number": 28
    },
    {
     "cell_type": "code",
     "collapsed": false,
     "input": [
      "print ' | '.join(toBraille(message_inverse, row_skip = 2, column_skip = 3)), \"\\r\\n\"\n",
      "print ' | '.join(toBraille(fliplr(message_inverse), row_skip = 2, column_skip = 3)), \"\\r\\n\"\n",
      "print ' | '.join(toBraille(flipud(message_inverse), row_skip = 2, column_skip = 3)), \"\\r\\n\"\n",
      "print ' | '.join(toBraille(fliplr(flipud(message_inverse)), row_skip = 2, column_skip = 3)), \"\\r\\n\""
     ],
     "language": "python",
     "metadata": {},
     "outputs": [
      {
       "output_type": "stream",
       "stream": "stdout",
       "text": [
        "\u2817 r/RATHER/5-right | \u2822 en/ENOUGH | \u2800 SPACE/empty | \u282d x/IT | \u280e s/SO/5-some/4-5-6-spirit/4-6-less/5-6-ness | \u283e WITH | \u2810 5- | \u2839 th/THIS/5-through/4-5-those | \u283f FOR/full | \u2833 ou/OUT/5-ought | \u280e s/SO/5-some/4-5-6-spirit/4-6-less/5-6-ness | \u2823 gh/RELEASE CAPS/< | \u2813 h/HAVE/5-here/4-5-6-had/8 | \u283a w/WILL/5-work/4-5-word/4-5-6-world | \u2821 ch/CHILD/5-character | \u280d m/MORE/5-mother/4-5-6-many | \u282c ing | \u283a w/WILL/5-work/4-5-word/4-5-6-world | \u2815 o/5-one | \u281d n/NOT/5-name/4-6-sion/5-6-tion/6-ation | \u281f q/QUITE/5-question | \u2805 k/KNOWLEDGE/5-know | \u282b ed | \u280d m/MORE/5-mother/4-5-6-many \r\n",
        "\n",
        "\u282d x/IT | \u2800 SPACE/empty | \u280a i/9 | \u2817 r/RATHER/5-right | \u283c ble/# | \u2810 5- | \u283b er | \u2823 gh/RELEASE CAPS/< | \u280e s/SO/5-some/4-5-6-spirit/4-6-less/5-6-ness | \u2823 gh/RELEASE CAPS/< | \u281e t/THAT/5-time/4-6-ount/5-6-ment | \u283f FOR/full | \u2825 u/US/5-under/4-5-upon | \u280c st/STILL | \u283a w/WILL/5-work/4-5-word/4-5-6-world | \u2816 to/ff/! | \u2835 z/AS | \u2815 o/5-one | \u283a w/WILL/5-work/4-5-word/4-5-6-world | \u2829 sh/SHALL | \u2825 u/US/5-under/4-5-upon | \u282e THE/5-there/4-5-these/4-5-6-their | \u2805 k/KNOWLEDGE/5-know | \u2837 OF \r\n",
        "\n",
        "\u283b er | \u2828 4-6- | \u281d n/NOT/5-name/4-6-sion/5-6-tion/6-ation | \u2829 sh/SHALL | \u2825 u/US/5-under/4-5-upon | \u2817 r/RATHER/5-right | \u282a ow | \u282b ed | \u281a j/JUST/0 | \u2817 r/RATHER/5-right | \u280c st/STILL | \u2829 sh/SHALL | \u283f FOR/full | \u281e t/THAT/5-time/4-6-ount/5-6-ment | \u2831 wh/WHICH/5-where/4-5-whose | \u281c ar | \u2831 wh/WHICH/5-where/4-5-whose | \u2837 OF | \u2802 ea/, | \u280f p/PEOPLE/5-part | \u283a w/WILL/5-work/4-5-word/4-5-6-world | \u2814 in | \u2800 SPACE/empty | \u282d x/IT"
       ]
      },
      {
       "output_type": "stream",
       "stream": "stdout",
       "text": [
        " \r\n",
        "\n",
        "\u282c ing | \u2835 z/AS | \u2828 4-6- | \u283e WITH | \u282e THE/5-there/4-5-these/4-5-6-their | \u282a ow | \u2817 r/RATHER/5-right | \u280d m/MORE/5-mother/4-5-6-many | \u282c ing | \u2821 ch/CHILD/5-character | \u2817 r/RATHER/5-right | \u2832 dis/dd/. | \u2831 wh/WHICH/5-where/4-5-whose | \u281c ar | \u2833 ou/OUT/5-ought | \u283f FOR/full | \u2827 v/VERY | \u2802 ea/, | \u281f q/QUITE/5-question | \u281c ar | \u282d x/IT | \u2800 SPACE/empty | \u2811 e/EVERY/5-ever/4-6-ance/5-6-ence/5 | \u283a w/WILL/5-work/4-5-word/4-5-6-world \r\n",
        "\n"
       ]
      }
     ],
     "prompt_number": 16
    },
    {
     "cell_type": "markdown",
     "metadata": {},
     "source": [
      "We can see from above decoding samples, that one of them gives reasonable continuous and unbreaking form of the message, while still leaving it up to a reader, that it meant with few words, namely CHILD and Q PLANET:"
     ]
    },
    {
     "cell_type": "code",
     "collapsed": false,
     "input": [
      "HTML(\"\"\"\n",
      "\n",
      "<p style=\"font-size: 200%; margin: 20px\">\n",
      "\u2805 KNOWLEDGE \u2837 OF \u2839 THIS \u2821 CHILD \u2829 SHALL \n",
      "</p>\n",
      "<p style=\"font-size: 200%; margin: 20px\">\n",
      "\u281b g \u280a i \u2827 v \u2811 e \u283d YOU \u280d MORE \n",
      "</p>\n",
      "<p style=\"font-size: 200%; margin: 20px\">\n",
      "\u281e t \u280a i \u280d m \u2811 e \u283e WITH \u2839 THIS \n",
      "</p>\n",
      "<p style=\"font-size: 200%; margin: 20px\">\n",
      "\u281f q \u280f p \u2807 l \u2801 a \u281d n \u2811 e \u281e t\n",
      "</p>\n",
      "\n",
      "\"\"\")"
     ],
     "language": "python",
     "metadata": {},
     "outputs": [
      {
       "html": [
        "\n",
        "\n",
        "<p style=\"font-size: 200%; margin: 20px\">\n",
        "\u2805 KNOWLEDGE \u2837 OF \u2839 THIS \u2821 CHILD \u2829 SHALL \n",
        "</p>\n",
        "<p style=\"font-size: 200%; margin: 20px\">\n",
        "\u281b g \u280a i \u2827 v \u2811 e \u283d YOU \u280d MORE \n",
        "</p>\n",
        "<p style=\"font-size: 200%; margin: 20px\">\n",
        "\u281e t \u280a i \u280d m \u2811 e \u283e WITH \u2839 THIS \n",
        "</p>\n",
        "<p style=\"font-size: 200%; margin: 20px\">\n",
        "\u281f q \u280f p \u2807 l \u2801 a \u281d n \u2811 e \u281e t\n",
        "</p>\n",
        "\n"
       ],
       "metadata": {},
       "output_type": "pyout",
       "prompt_number": 21,
       "text": [
        "<IPython.core.display.HTML at 0x109004950>"
       ]
      }
     ],
     "prompt_number": 21
    },
    {
     "cell_type": "markdown",
     "metadata": {},
     "source": [
      "## The [MIT](http://choosealicense.com/licenses/mit/) License\n",
      "\n",
      "Copyright (c) 2015 Marko Manninen"
     ]
    }
   ],
   "metadata": {}
  }
 ]
}